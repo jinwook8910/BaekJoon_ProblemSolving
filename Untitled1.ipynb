{
  "nbformat": 4,
  "nbformat_minor": 0,
  "metadata": {
    "colab": {
      "name": "Untitled1.ipynb",
      "provenance": [],
      "collapsed_sections": [],
      "authorship_tag": "ABX9TyNv4BhhfLWzmSVV1WIT4h2+",
      "include_colab_link": true
    },
    "kernelspec": {
      "name": "python3",
      "display_name": "Python 3"
    },
    "language_info": {
      "name": "python"
    }
  },
  "cells": [
    {
      "cell_type": "markdown",
      "metadata": {
        "id": "view-in-github",
        "colab_type": "text"
      },
      "source": [
        "<a href=\"https://colab.research.google.com/github/jinwook8910/BaekJoon_ProblemSolving/blob/master/Untitled1.ipynb\" target=\"_parent\"><img src=\"https://colab.research.google.com/assets/colab-badge.svg\" alt=\"Open In Colab\"/></a>"
      ]
    },
    {
      "cell_type": "code",
      "execution_count": 84,
      "metadata": {
        "id": "hi18jiK2lQps"
      },
      "outputs": [],
      "source": [
        "import numpy as np\n",
        "import pandas as pd"
      ]
    },
    {
      "cell_type": "code",
      "source": [
        "pbr = pd.read_excel('코스피_PBR.xlsx')\n",
        "pbr_symbol = pbr[7:8] #symbol 추출\n",
        "pbr_symbol = pbr_symbol.transpose() \n",
        "\n",
        "pbr = pbr[14:15] #pbr 추출\n",
        "pbr = pbr.transpose()\n",
        "\n",
        "pbr_2 = pd.concat([pbr_symbol,pbr], axis=1) #열 결합\n",
        "pbr_2 = pbr_2.iloc[1:,0:]\n",
        "pbr_2.columns = ['Symbol', 'pbr']\n",
        "\n",
        "\n",
        "pbr_sorted = pbr_2.sort_values(by='pbr' ,ascending=True) #내림차순 pbr 정렬\n",
        "\n",
        "pbr_sorted.dropna(axis=0, inplace=True) #NaN값(영업이익 0이하) 제거, NaN값이 하나라도 있는 row(index) 제거\n",
        "\n",
        "pbr_sorted = pbr_sorted[pbr_sorted['pbr']>0.25] # 0.25이하 제거\n",
        "\n",
        "pbr_sorted = pbr_sorted.iloc[:50] # 50개 추출\n",
        "\n",
        "pbr_sorted\n"
      ],
      "metadata": {
        "colab": {
          "base_uri": "https://localhost:8080/",
          "height": 1000
        },
        "id": "lmVfrje2lZNi",
        "outputId": "08dd2ef3-f9e0-42a0-b561-003fa4bec3de"
      },
      "execution_count": 104,
      "outputs": [
        {
          "output_type": "execute_result",
          "data": {
            "text/plain": [
              "               Symbol      pbr\n",
              "Unnamed: 169  A003240  0.28284\n",
              "Unnamed: 49   A024110   0.2999\n",
              "Unnamed: 62   A004020  0.30428\n",
              "Unnamed: 118  A138930  0.31341\n",
              "Unnamed: 28   A032830  0.32112\n",
              "Unnamed: 162  A000670   0.3469\n",
              "Unnamed: 160  A000210   0.3504\n",
              "Unnamed: 91   A004990  0.35478\n",
              "Unnamed: 34   A316140  0.35775\n",
              "Unnamed: 79   A078930  0.35987\n",
              "Unnamed: 23   A086790  0.36575\n",
              "Unnamed: 140  A069960  0.38344\n",
              "Unnamed: 195  A006120  0.38746\n",
              "Unnamed: 197  A057050  0.39231\n",
              "Unnamed: 155  A000240  0.39899\n",
              "Unnamed: 89   A036460  0.40009\n",
              "Unnamed: 82   A139480  0.40987\n",
              "Unnamed: 15   A055550  0.41003\n",
              "Unnamed: 103  A001450  0.42307\n",
              "Unnamed: 190  A005440  0.44084\n",
              "Unnamed: 199  A002350  0.44439\n",
              "Unnamed: 11   A005490  0.45211\n",
              "Unnamed: 87   A029780  0.46097\n",
              "Unnamed: 191  A001800  0.47375\n",
              "Unnamed: 149  A006260  0.47546\n",
              "Unnamed: 196  A000070  0.49443\n",
              "Unnamed: 44   A030200   0.4998\n",
              "Unnamed: 53   A011170  0.51615\n",
              "Unnamed: 184  A103140  0.51848\n",
              "Unnamed: 12   A105560  0.52405\n",
              "Unnamed: 178  A294870  0.52439\n",
              "Unnamed: 168  A001740  0.52637\n",
              "Unnamed: 100  A002380  0.53418\n",
              "Unnamed: 187  A006040  0.55777\n",
              "Unnamed: 50   A402340  0.56351\n",
              "Unnamed: 157  A001120  0.56465\n",
              "Unnamed: 153  A001230  0.56571\n",
              "Unnamed: 32   A003550  0.56857\n",
              "Unnamed: 122  A001040  0.57043\n",
              "Unnamed: 85   A005940  0.57793\n",
              "Unnamed: 67   A005830  0.58221\n",
              "Unnamed: 174  A006650  0.58516\n",
              "Unnamed: 75   A161390  0.59882\n",
              "Unnamed: 41   A000810  0.60261\n",
              "Unnamed: 120  A375500   0.6126\n",
              "Unnamed: 65   A006800  0.62097\n",
              "Unnamed: 76   A267250  0.62312\n",
              "Unnamed: 125  A000880  0.63464\n",
              "Unnamed: 143  A011210  0.64608\n",
              "Unnamed: 86   A016360  0.65937"
            ],
            "text/html": [
              "\n",
              "  <div id=\"df-fe851572-b0df-4986-86a9-0b248e23a058\">\n",
              "    <div class=\"colab-df-container\">\n",
              "      <div>\n",
              "<style scoped>\n",
              "    .dataframe tbody tr th:only-of-type {\n",
              "        vertical-align: middle;\n",
              "    }\n",
              "\n",
              "    .dataframe tbody tr th {\n",
              "        vertical-align: top;\n",
              "    }\n",
              "\n",
              "    .dataframe thead th {\n",
              "        text-align: right;\n",
              "    }\n",
              "</style>\n",
              "<table border=\"1\" class=\"dataframe\">\n",
              "  <thead>\n",
              "    <tr style=\"text-align: right;\">\n",
              "      <th></th>\n",
              "      <th>Symbol</th>\n",
              "      <th>pbr</th>\n",
              "    </tr>\n",
              "  </thead>\n",
              "  <tbody>\n",
              "    <tr>\n",
              "      <th>Unnamed: 169</th>\n",
              "      <td>A003240</td>\n",
              "      <td>0.28284</td>\n",
              "    </tr>\n",
              "    <tr>\n",
              "      <th>Unnamed: 49</th>\n",
              "      <td>A024110</td>\n",
              "      <td>0.2999</td>\n",
              "    </tr>\n",
              "    <tr>\n",
              "      <th>Unnamed: 62</th>\n",
              "      <td>A004020</td>\n",
              "      <td>0.30428</td>\n",
              "    </tr>\n",
              "    <tr>\n",
              "      <th>Unnamed: 118</th>\n",
              "      <td>A138930</td>\n",
              "      <td>0.31341</td>\n",
              "    </tr>\n",
              "    <tr>\n",
              "      <th>Unnamed: 28</th>\n",
              "      <td>A032830</td>\n",
              "      <td>0.32112</td>\n",
              "    </tr>\n",
              "    <tr>\n",
              "      <th>Unnamed: 162</th>\n",
              "      <td>A000670</td>\n",
              "      <td>0.3469</td>\n",
              "    </tr>\n",
              "    <tr>\n",
              "      <th>Unnamed: 160</th>\n",
              "      <td>A000210</td>\n",
              "      <td>0.3504</td>\n",
              "    </tr>\n",
              "    <tr>\n",
              "      <th>Unnamed: 91</th>\n",
              "      <td>A004990</td>\n",
              "      <td>0.35478</td>\n",
              "    </tr>\n",
              "    <tr>\n",
              "      <th>Unnamed: 34</th>\n",
              "      <td>A316140</td>\n",
              "      <td>0.35775</td>\n",
              "    </tr>\n",
              "    <tr>\n",
              "      <th>Unnamed: 79</th>\n",
              "      <td>A078930</td>\n",
              "      <td>0.35987</td>\n",
              "    </tr>\n",
              "    <tr>\n",
              "      <th>Unnamed: 23</th>\n",
              "      <td>A086790</td>\n",
              "      <td>0.36575</td>\n",
              "    </tr>\n",
              "    <tr>\n",
              "      <th>Unnamed: 140</th>\n",
              "      <td>A069960</td>\n",
              "      <td>0.38344</td>\n",
              "    </tr>\n",
              "    <tr>\n",
              "      <th>Unnamed: 195</th>\n",
              "      <td>A006120</td>\n",
              "      <td>0.38746</td>\n",
              "    </tr>\n",
              "    <tr>\n",
              "      <th>Unnamed: 197</th>\n",
              "      <td>A057050</td>\n",
              "      <td>0.39231</td>\n",
              "    </tr>\n",
              "    <tr>\n",
              "      <th>Unnamed: 155</th>\n",
              "      <td>A000240</td>\n",
              "      <td>0.39899</td>\n",
              "    </tr>\n",
              "    <tr>\n",
              "      <th>Unnamed: 89</th>\n",
              "      <td>A036460</td>\n",
              "      <td>0.40009</td>\n",
              "    </tr>\n",
              "    <tr>\n",
              "      <th>Unnamed: 82</th>\n",
              "      <td>A139480</td>\n",
              "      <td>0.40987</td>\n",
              "    </tr>\n",
              "    <tr>\n",
              "      <th>Unnamed: 15</th>\n",
              "      <td>A055550</td>\n",
              "      <td>0.41003</td>\n",
              "    </tr>\n",
              "    <tr>\n",
              "      <th>Unnamed: 103</th>\n",
              "      <td>A001450</td>\n",
              "      <td>0.42307</td>\n",
              "    </tr>\n",
              "    <tr>\n",
              "      <th>Unnamed: 190</th>\n",
              "      <td>A005440</td>\n",
              "      <td>0.44084</td>\n",
              "    </tr>\n",
              "    <tr>\n",
              "      <th>Unnamed: 199</th>\n",
              "      <td>A002350</td>\n",
              "      <td>0.44439</td>\n",
              "    </tr>\n",
              "    <tr>\n",
              "      <th>Unnamed: 11</th>\n",
              "      <td>A005490</td>\n",
              "      <td>0.45211</td>\n",
              "    </tr>\n",
              "    <tr>\n",
              "      <th>Unnamed: 87</th>\n",
              "      <td>A029780</td>\n",
              "      <td>0.46097</td>\n",
              "    </tr>\n",
              "    <tr>\n",
              "      <th>Unnamed: 191</th>\n",
              "      <td>A001800</td>\n",
              "      <td>0.47375</td>\n",
              "    </tr>\n",
              "    <tr>\n",
              "      <th>Unnamed: 149</th>\n",
              "      <td>A006260</td>\n",
              "      <td>0.47546</td>\n",
              "    </tr>\n",
              "    <tr>\n",
              "      <th>Unnamed: 196</th>\n",
              "      <td>A000070</td>\n",
              "      <td>0.49443</td>\n",
              "    </tr>\n",
              "    <tr>\n",
              "      <th>Unnamed: 44</th>\n",
              "      <td>A030200</td>\n",
              "      <td>0.4998</td>\n",
              "    </tr>\n",
              "    <tr>\n",
              "      <th>Unnamed: 53</th>\n",
              "      <td>A011170</td>\n",
              "      <td>0.51615</td>\n",
              "    </tr>\n",
              "    <tr>\n",
              "      <th>Unnamed: 184</th>\n",
              "      <td>A103140</td>\n",
              "      <td>0.51848</td>\n",
              "    </tr>\n",
              "    <tr>\n",
              "      <th>Unnamed: 12</th>\n",
              "      <td>A105560</td>\n",
              "      <td>0.52405</td>\n",
              "    </tr>\n",
              "    <tr>\n",
              "      <th>Unnamed: 178</th>\n",
              "      <td>A294870</td>\n",
              "      <td>0.52439</td>\n",
              "    </tr>\n",
              "    <tr>\n",
              "      <th>Unnamed: 168</th>\n",
              "      <td>A001740</td>\n",
              "      <td>0.52637</td>\n",
              "    </tr>\n",
              "    <tr>\n",
              "      <th>Unnamed: 100</th>\n",
              "      <td>A002380</td>\n",
              "      <td>0.53418</td>\n",
              "    </tr>\n",
              "    <tr>\n",
              "      <th>Unnamed: 187</th>\n",
              "      <td>A006040</td>\n",
              "      <td>0.55777</td>\n",
              "    </tr>\n",
              "    <tr>\n",
              "      <th>Unnamed: 50</th>\n",
              "      <td>A402340</td>\n",
              "      <td>0.56351</td>\n",
              "    </tr>\n",
              "    <tr>\n",
              "      <th>Unnamed: 157</th>\n",
              "      <td>A001120</td>\n",
              "      <td>0.56465</td>\n",
              "    </tr>\n",
              "    <tr>\n",
              "      <th>Unnamed: 153</th>\n",
              "      <td>A001230</td>\n",
              "      <td>0.56571</td>\n",
              "    </tr>\n",
              "    <tr>\n",
              "      <th>Unnamed: 32</th>\n",
              "      <td>A003550</td>\n",
              "      <td>0.56857</td>\n",
              "    </tr>\n",
              "    <tr>\n",
              "      <th>Unnamed: 122</th>\n",
              "      <td>A001040</td>\n",
              "      <td>0.57043</td>\n",
              "    </tr>\n",
              "    <tr>\n",
              "      <th>Unnamed: 85</th>\n",
              "      <td>A005940</td>\n",
              "      <td>0.57793</td>\n",
              "    </tr>\n",
              "    <tr>\n",
              "      <th>Unnamed: 67</th>\n",
              "      <td>A005830</td>\n",
              "      <td>0.58221</td>\n",
              "    </tr>\n",
              "    <tr>\n",
              "      <th>Unnamed: 174</th>\n",
              "      <td>A006650</td>\n",
              "      <td>0.58516</td>\n",
              "    </tr>\n",
              "    <tr>\n",
              "      <th>Unnamed: 75</th>\n",
              "      <td>A161390</td>\n",
              "      <td>0.59882</td>\n",
              "    </tr>\n",
              "    <tr>\n",
              "      <th>Unnamed: 41</th>\n",
              "      <td>A000810</td>\n",
              "      <td>0.60261</td>\n",
              "    </tr>\n",
              "    <tr>\n",
              "      <th>Unnamed: 120</th>\n",
              "      <td>A375500</td>\n",
              "      <td>0.6126</td>\n",
              "    </tr>\n",
              "    <tr>\n",
              "      <th>Unnamed: 65</th>\n",
              "      <td>A006800</td>\n",
              "      <td>0.62097</td>\n",
              "    </tr>\n",
              "    <tr>\n",
              "      <th>Unnamed: 76</th>\n",
              "      <td>A267250</td>\n",
              "      <td>0.62312</td>\n",
              "    </tr>\n",
              "    <tr>\n",
              "      <th>Unnamed: 125</th>\n",
              "      <td>A000880</td>\n",
              "      <td>0.63464</td>\n",
              "    </tr>\n",
              "    <tr>\n",
              "      <th>Unnamed: 143</th>\n",
              "      <td>A011210</td>\n",
              "      <td>0.64608</td>\n",
              "    </tr>\n",
              "    <tr>\n",
              "      <th>Unnamed: 86</th>\n",
              "      <td>A016360</td>\n",
              "      <td>0.65937</td>\n",
              "    </tr>\n",
              "  </tbody>\n",
              "</table>\n",
              "</div>\n",
              "      <button class=\"colab-df-convert\" onclick=\"convertToInteractive('df-fe851572-b0df-4986-86a9-0b248e23a058')\"\n",
              "              title=\"Convert this dataframe to an interactive table.\"\n",
              "              style=\"display:none;\">\n",
              "        \n",
              "  <svg xmlns=\"http://www.w3.org/2000/svg\" height=\"24px\"viewBox=\"0 0 24 24\"\n",
              "       width=\"24px\">\n",
              "    <path d=\"M0 0h24v24H0V0z\" fill=\"none\"/>\n",
              "    <path d=\"M18.56 5.44l.94 2.06.94-2.06 2.06-.94-2.06-.94-.94-2.06-.94 2.06-2.06.94zm-11 1L8.5 8.5l.94-2.06 2.06-.94-2.06-.94L8.5 2.5l-.94 2.06-2.06.94zm10 10l.94 2.06.94-2.06 2.06-.94-2.06-.94-.94-2.06-.94 2.06-2.06.94z\"/><path d=\"M17.41 7.96l-1.37-1.37c-.4-.4-.92-.59-1.43-.59-.52 0-1.04.2-1.43.59L10.3 9.45l-7.72 7.72c-.78.78-.78 2.05 0 2.83L4 21.41c.39.39.9.59 1.41.59.51 0 1.02-.2 1.41-.59l7.78-7.78 2.81-2.81c.8-.78.8-2.07 0-2.86zM5.41 20L4 18.59l7.72-7.72 1.47 1.35L5.41 20z\"/>\n",
              "  </svg>\n",
              "      </button>\n",
              "      \n",
              "  <style>\n",
              "    .colab-df-container {\n",
              "      display:flex;\n",
              "      flex-wrap:wrap;\n",
              "      gap: 12px;\n",
              "    }\n",
              "\n",
              "    .colab-df-convert {\n",
              "      background-color: #E8F0FE;\n",
              "      border: none;\n",
              "      border-radius: 50%;\n",
              "      cursor: pointer;\n",
              "      display: none;\n",
              "      fill: #1967D2;\n",
              "      height: 32px;\n",
              "      padding: 0 0 0 0;\n",
              "      width: 32px;\n",
              "    }\n",
              "\n",
              "    .colab-df-convert:hover {\n",
              "      background-color: #E2EBFA;\n",
              "      box-shadow: 0px 1px 2px rgba(60, 64, 67, 0.3), 0px 1px 3px 1px rgba(60, 64, 67, 0.15);\n",
              "      fill: #174EA6;\n",
              "    }\n",
              "\n",
              "    [theme=dark] .colab-df-convert {\n",
              "      background-color: #3B4455;\n",
              "      fill: #D2E3FC;\n",
              "    }\n",
              "\n",
              "    [theme=dark] .colab-df-convert:hover {\n",
              "      background-color: #434B5C;\n",
              "      box-shadow: 0px 1px 3px 1px rgba(0, 0, 0, 0.15);\n",
              "      filter: drop-shadow(0px 1px 2px rgba(0, 0, 0, 0.3));\n",
              "      fill: #FFFFFF;\n",
              "    }\n",
              "  </style>\n",
              "\n",
              "      <script>\n",
              "        const buttonEl =\n",
              "          document.querySelector('#df-fe851572-b0df-4986-86a9-0b248e23a058 button.colab-df-convert');\n",
              "        buttonEl.style.display =\n",
              "          google.colab.kernel.accessAllowed ? 'block' : 'none';\n",
              "\n",
              "        async function convertToInteractive(key) {\n",
              "          const element = document.querySelector('#df-fe851572-b0df-4986-86a9-0b248e23a058');\n",
              "          const dataTable =\n",
              "            await google.colab.kernel.invokeFunction('convertToInteractive',\n",
              "                                                     [key], {});\n",
              "          if (!dataTable) return;\n",
              "\n",
              "          const docLinkHtml = 'Like what you see? Visit the ' +\n",
              "            '<a target=\"_blank\" href=https://colab.research.google.com/notebooks/data_table.ipynb>data table notebook</a>'\n",
              "            + ' to learn more about interactive tables.';\n",
              "          element.innerHTML = '';\n",
              "          dataTable['output_type'] = 'display_data';\n",
              "          await google.colab.output.renderOutput(dataTable, element);\n",
              "          const docLink = document.createElement('div');\n",
              "          docLink.innerHTML = docLinkHtml;\n",
              "          element.appendChild(docLink);\n",
              "        }\n",
              "      </script>\n",
              "    </div>\n",
              "  </div>\n",
              "  "
            ]
          },
          "metadata": {},
          "execution_count": 104
        }
      ]
    },
    {
      "cell_type": "code",
      "source": [
        "per = pd.read_excel('코스피_PER.xlsx')\n",
        "per_symbol = per[7:8]\n",
        "per_symbol = per_symbol.transpose()\n",
        "per_symbol\n",
        "\n",
        "per = per[14:15]\n",
        "per = per.transpose()\n",
        "per\n",
        "\n",
        "per_2 = pd.concat([per_symbol,per], axis=1)\n",
        "per_2 = per_2.iloc[1:,0:]\n",
        "per_2.columns = ['Symbol', 'per']\n",
        "\n",
        "\n",
        "per_sorted = per_2.sort_values(by='per' ,ascending=False)\n",
        "\n",
        "per_sorted.dropna(axis=0, inplace=True) #NaN값(영업이익 0이하) 제거, NaN값이 하나라도 있는 row(index) 제거\n",
        "\n",
        "# per_sorted_2 = per_sorted.set_index(\"Symbol\")\n",
        "per_sorted"
      ],
      "metadata": {
        "id": "T6QdsDUnXK61",
        "outputId": "ecece4af-a0f2-41b0-b57d-4dfc940287e9",
        "colab": {
          "base_uri": "https://localhost:8080/",
          "height": 423
        }
      },
      "execution_count": 95,
      "outputs": [
        {
          "output_type": "execute_result",
          "data": {
            "text/plain": [
              "               Symbol        per\n",
              "Unnamed: 114  A336260  451.80723\n",
              "Unnamed: 77   A180640   238.9663\n",
              "Unnamed: 95   A052690  197.45859\n",
              "Unnamed: 4    A207940  151.80017\n",
              "Unnamed: 199  A002350  147.45946\n",
              "...               ...        ...\n",
              "Unnamed: 82   A139480    2.67978\n",
              "Unnamed: 161  A042670    2.64678\n",
              "Unnamed: 79   A078930     2.5554\n",
              "Unnamed: 24   A011200    2.46487\n",
              "Unnamed: 160  A000210    1.46542\n",
              "\n",
              "[179 rows x 2 columns]"
            ],
            "text/html": [
              "\n",
              "  <div id=\"df-54096a6e-839f-4643-9fac-5db8033f41e3\">\n",
              "    <div class=\"colab-df-container\">\n",
              "      <div>\n",
              "<style scoped>\n",
              "    .dataframe tbody tr th:only-of-type {\n",
              "        vertical-align: middle;\n",
              "    }\n",
              "\n",
              "    .dataframe tbody tr th {\n",
              "        vertical-align: top;\n",
              "    }\n",
              "\n",
              "    .dataframe thead th {\n",
              "        text-align: right;\n",
              "    }\n",
              "</style>\n",
              "<table border=\"1\" class=\"dataframe\">\n",
              "  <thead>\n",
              "    <tr style=\"text-align: right;\">\n",
              "      <th></th>\n",
              "      <th>Symbol</th>\n",
              "      <th>per</th>\n",
              "    </tr>\n",
              "  </thead>\n",
              "  <tbody>\n",
              "    <tr>\n",
              "      <th>Unnamed: 114</th>\n",
              "      <td>A336260</td>\n",
              "      <td>451.80723</td>\n",
              "    </tr>\n",
              "    <tr>\n",
              "      <th>Unnamed: 77</th>\n",
              "      <td>A180640</td>\n",
              "      <td>238.9663</td>\n",
              "    </tr>\n",
              "    <tr>\n",
              "      <th>Unnamed: 95</th>\n",
              "      <td>A052690</td>\n",
              "      <td>197.45859</td>\n",
              "    </tr>\n",
              "    <tr>\n",
              "      <th>Unnamed: 4</th>\n",
              "      <td>A207940</td>\n",
              "      <td>151.80017</td>\n",
              "    </tr>\n",
              "    <tr>\n",
              "      <th>Unnamed: 199</th>\n",
              "      <td>A002350</td>\n",
              "      <td>147.45946</td>\n",
              "    </tr>\n",
              "    <tr>\n",
              "      <th>...</th>\n",
              "      <td>...</td>\n",
              "      <td>...</td>\n",
              "    </tr>\n",
              "    <tr>\n",
              "      <th>Unnamed: 82</th>\n",
              "      <td>A139480</td>\n",
              "      <td>2.67978</td>\n",
              "    </tr>\n",
              "    <tr>\n",
              "      <th>Unnamed: 161</th>\n",
              "      <td>A042670</td>\n",
              "      <td>2.64678</td>\n",
              "    </tr>\n",
              "    <tr>\n",
              "      <th>Unnamed: 79</th>\n",
              "      <td>A078930</td>\n",
              "      <td>2.5554</td>\n",
              "    </tr>\n",
              "    <tr>\n",
              "      <th>Unnamed: 24</th>\n",
              "      <td>A011200</td>\n",
              "      <td>2.46487</td>\n",
              "    </tr>\n",
              "    <tr>\n",
              "      <th>Unnamed: 160</th>\n",
              "      <td>A000210</td>\n",
              "      <td>1.46542</td>\n",
              "    </tr>\n",
              "  </tbody>\n",
              "</table>\n",
              "<p>179 rows × 2 columns</p>\n",
              "</div>\n",
              "      <button class=\"colab-df-convert\" onclick=\"convertToInteractive('df-54096a6e-839f-4643-9fac-5db8033f41e3')\"\n",
              "              title=\"Convert this dataframe to an interactive table.\"\n",
              "              style=\"display:none;\">\n",
              "        \n",
              "  <svg xmlns=\"http://www.w3.org/2000/svg\" height=\"24px\"viewBox=\"0 0 24 24\"\n",
              "       width=\"24px\">\n",
              "    <path d=\"M0 0h24v24H0V0z\" fill=\"none\"/>\n",
              "    <path d=\"M18.56 5.44l.94 2.06.94-2.06 2.06-.94-2.06-.94-.94-2.06-.94 2.06-2.06.94zm-11 1L8.5 8.5l.94-2.06 2.06-.94-2.06-.94L8.5 2.5l-.94 2.06-2.06.94zm10 10l.94 2.06.94-2.06 2.06-.94-2.06-.94-.94-2.06-.94 2.06-2.06.94z\"/><path d=\"M17.41 7.96l-1.37-1.37c-.4-.4-.92-.59-1.43-.59-.52 0-1.04.2-1.43.59L10.3 9.45l-7.72 7.72c-.78.78-.78 2.05 0 2.83L4 21.41c.39.39.9.59 1.41.59.51 0 1.02-.2 1.41-.59l7.78-7.78 2.81-2.81c.8-.78.8-2.07 0-2.86zM5.41 20L4 18.59l7.72-7.72 1.47 1.35L5.41 20z\"/>\n",
              "  </svg>\n",
              "      </button>\n",
              "      \n",
              "  <style>\n",
              "    .colab-df-container {\n",
              "      display:flex;\n",
              "      flex-wrap:wrap;\n",
              "      gap: 12px;\n",
              "    }\n",
              "\n",
              "    .colab-df-convert {\n",
              "      background-color: #E8F0FE;\n",
              "      border: none;\n",
              "      border-radius: 50%;\n",
              "      cursor: pointer;\n",
              "      display: none;\n",
              "      fill: #1967D2;\n",
              "      height: 32px;\n",
              "      padding: 0 0 0 0;\n",
              "      width: 32px;\n",
              "    }\n",
              "\n",
              "    .colab-df-convert:hover {\n",
              "      background-color: #E2EBFA;\n",
              "      box-shadow: 0px 1px 2px rgba(60, 64, 67, 0.3), 0px 1px 3px 1px rgba(60, 64, 67, 0.15);\n",
              "      fill: #174EA6;\n",
              "    }\n",
              "\n",
              "    [theme=dark] .colab-df-convert {\n",
              "      background-color: #3B4455;\n",
              "      fill: #D2E3FC;\n",
              "    }\n",
              "\n",
              "    [theme=dark] .colab-df-convert:hover {\n",
              "      background-color: #434B5C;\n",
              "      box-shadow: 0px 1px 3px 1px rgba(0, 0, 0, 0.15);\n",
              "      filter: drop-shadow(0px 1px 2px rgba(0, 0, 0, 0.3));\n",
              "      fill: #FFFFFF;\n",
              "    }\n",
              "  </style>\n",
              "\n",
              "      <script>\n",
              "        const buttonEl =\n",
              "          document.querySelector('#df-54096a6e-839f-4643-9fac-5db8033f41e3 button.colab-df-convert');\n",
              "        buttonEl.style.display =\n",
              "          google.colab.kernel.accessAllowed ? 'block' : 'none';\n",
              "\n",
              "        async function convertToInteractive(key) {\n",
              "          const element = document.querySelector('#df-54096a6e-839f-4643-9fac-5db8033f41e3');\n",
              "          const dataTable =\n",
              "            await google.colab.kernel.invokeFunction('convertToInteractive',\n",
              "                                                     [key], {});\n",
              "          if (!dataTable) return;\n",
              "\n",
              "          const docLinkHtml = 'Like what you see? Visit the ' +\n",
              "            '<a target=\"_blank\" href=https://colab.research.google.com/notebooks/data_table.ipynb>data table notebook</a>'\n",
              "            + ' to learn more about interactive tables.';\n",
              "          element.innerHTML = '';\n",
              "          dataTable['output_type'] = 'display_data';\n",
              "          await google.colab.output.renderOutput(dataTable, element);\n",
              "          const docLink = document.createElement('div');\n",
              "          docLink.innerHTML = docLinkHtml;\n",
              "          element.appendChild(docLink);\n",
              "        }\n",
              "      </script>\n",
              "    </div>\n",
              "  </div>\n",
              "  "
            ]
          },
          "metadata": {},
          "execution_count": 95
        }
      ]
    },
    {
      "cell_type": "code",
      "source": [
        ""
      ],
      "metadata": {
        "id": "MB1-44P9EV5b"
      },
      "execution_count": null,
      "outputs": []
    },
    {
      "cell_type": "code",
      "source": [
        "lists = pd.merge(pbr_sorted, per_sorted)\n",
        "lists = lists.sort_values(by='per' ,ascending=True) #내림차순 per 정렬\n",
        "lists = lists[:20] #20개 나열\n",
        "\n",
        "\n",
        "lists_f = lists.set_index(\"Symbol\")\n",
        "lists_f"
      ],
      "metadata": {
        "id": "cZOmE6Gd-8ZB",
        "outputId": "8c9b893f-50e3-4df0-96d4-5707b72a5917",
        "colab": {
          "base_uri": "https://localhost:8080/",
          "height": 708
        }
      },
      "execution_count": 101,
      "outputs": [
        {
          "output_type": "execute_result",
          "data": {
            "text/plain": [
              "             pbr      per\n",
              "Symbol                   \n",
              "A000210   0.3504  1.46542\n",
              "A078930  0.35987   2.5554\n",
              "A139480  0.40987  2.67978\n",
              "A001230  0.56571  2.75621\n",
              "A001120  0.56465  2.92857\n",
              "A024110   0.2999  3.39671\n",
              "A000880  0.63464  3.41193\n",
              "A316140  0.35775  3.55566\n",
              "A086790  0.36575  3.58053\n",
              "A103140  0.51848  3.58771\n",
              "A005490  0.45211  3.61673\n",
              "A003240  0.28284   3.6552\n",
              "A000070  0.49443  3.66373\n",
              "A004020  0.30428   3.7438\n",
              "A036460  0.40009  3.79639\n",
              "A005940  0.57793  4.07536\n",
              "A016360  0.65937  4.15354\n",
              "A375500   0.6126  4.42457\n",
              "A006120  0.38746  4.44524\n",
              "A055550  0.41003  4.89001"
            ],
            "text/html": [
              "\n",
              "  <div id=\"df-c1f76d02-16ce-4ff8-a143-4ccb6fe15108\">\n",
              "    <div class=\"colab-df-container\">\n",
              "      <div>\n",
              "<style scoped>\n",
              "    .dataframe tbody tr th:only-of-type {\n",
              "        vertical-align: middle;\n",
              "    }\n",
              "\n",
              "    .dataframe tbody tr th {\n",
              "        vertical-align: top;\n",
              "    }\n",
              "\n",
              "    .dataframe thead th {\n",
              "        text-align: right;\n",
              "    }\n",
              "</style>\n",
              "<table border=\"1\" class=\"dataframe\">\n",
              "  <thead>\n",
              "    <tr style=\"text-align: right;\">\n",
              "      <th></th>\n",
              "      <th>pbr</th>\n",
              "      <th>per</th>\n",
              "    </tr>\n",
              "    <tr>\n",
              "      <th>Symbol</th>\n",
              "      <th></th>\n",
              "      <th></th>\n",
              "    </tr>\n",
              "  </thead>\n",
              "  <tbody>\n",
              "    <tr>\n",
              "      <th>A000210</th>\n",
              "      <td>0.3504</td>\n",
              "      <td>1.46542</td>\n",
              "    </tr>\n",
              "    <tr>\n",
              "      <th>A078930</th>\n",
              "      <td>0.35987</td>\n",
              "      <td>2.5554</td>\n",
              "    </tr>\n",
              "    <tr>\n",
              "      <th>A139480</th>\n",
              "      <td>0.40987</td>\n",
              "      <td>2.67978</td>\n",
              "    </tr>\n",
              "    <tr>\n",
              "      <th>A001230</th>\n",
              "      <td>0.56571</td>\n",
              "      <td>2.75621</td>\n",
              "    </tr>\n",
              "    <tr>\n",
              "      <th>A001120</th>\n",
              "      <td>0.56465</td>\n",
              "      <td>2.92857</td>\n",
              "    </tr>\n",
              "    <tr>\n",
              "      <th>A024110</th>\n",
              "      <td>0.2999</td>\n",
              "      <td>3.39671</td>\n",
              "    </tr>\n",
              "    <tr>\n",
              "      <th>A000880</th>\n",
              "      <td>0.63464</td>\n",
              "      <td>3.41193</td>\n",
              "    </tr>\n",
              "    <tr>\n",
              "      <th>A316140</th>\n",
              "      <td>0.35775</td>\n",
              "      <td>3.55566</td>\n",
              "    </tr>\n",
              "    <tr>\n",
              "      <th>A086790</th>\n",
              "      <td>0.36575</td>\n",
              "      <td>3.58053</td>\n",
              "    </tr>\n",
              "    <tr>\n",
              "      <th>A103140</th>\n",
              "      <td>0.51848</td>\n",
              "      <td>3.58771</td>\n",
              "    </tr>\n",
              "    <tr>\n",
              "      <th>A005490</th>\n",
              "      <td>0.45211</td>\n",
              "      <td>3.61673</td>\n",
              "    </tr>\n",
              "    <tr>\n",
              "      <th>A003240</th>\n",
              "      <td>0.28284</td>\n",
              "      <td>3.6552</td>\n",
              "    </tr>\n",
              "    <tr>\n",
              "      <th>A000070</th>\n",
              "      <td>0.49443</td>\n",
              "      <td>3.66373</td>\n",
              "    </tr>\n",
              "    <tr>\n",
              "      <th>A004020</th>\n",
              "      <td>0.30428</td>\n",
              "      <td>3.7438</td>\n",
              "    </tr>\n",
              "    <tr>\n",
              "      <th>A036460</th>\n",
              "      <td>0.40009</td>\n",
              "      <td>3.79639</td>\n",
              "    </tr>\n",
              "    <tr>\n",
              "      <th>A005940</th>\n",
              "      <td>0.57793</td>\n",
              "      <td>4.07536</td>\n",
              "    </tr>\n",
              "    <tr>\n",
              "      <th>A016360</th>\n",
              "      <td>0.65937</td>\n",
              "      <td>4.15354</td>\n",
              "    </tr>\n",
              "    <tr>\n",
              "      <th>A375500</th>\n",
              "      <td>0.6126</td>\n",
              "      <td>4.42457</td>\n",
              "    </tr>\n",
              "    <tr>\n",
              "      <th>A006120</th>\n",
              "      <td>0.38746</td>\n",
              "      <td>4.44524</td>\n",
              "    </tr>\n",
              "    <tr>\n",
              "      <th>A055550</th>\n",
              "      <td>0.41003</td>\n",
              "      <td>4.89001</td>\n",
              "    </tr>\n",
              "  </tbody>\n",
              "</table>\n",
              "</div>\n",
              "      <button class=\"colab-df-convert\" onclick=\"convertToInteractive('df-c1f76d02-16ce-4ff8-a143-4ccb6fe15108')\"\n",
              "              title=\"Convert this dataframe to an interactive table.\"\n",
              "              style=\"display:none;\">\n",
              "        \n",
              "  <svg xmlns=\"http://www.w3.org/2000/svg\" height=\"24px\"viewBox=\"0 0 24 24\"\n",
              "       width=\"24px\">\n",
              "    <path d=\"M0 0h24v24H0V0z\" fill=\"none\"/>\n",
              "    <path d=\"M18.56 5.44l.94 2.06.94-2.06 2.06-.94-2.06-.94-.94-2.06-.94 2.06-2.06.94zm-11 1L8.5 8.5l.94-2.06 2.06-.94-2.06-.94L8.5 2.5l-.94 2.06-2.06.94zm10 10l.94 2.06.94-2.06 2.06-.94-2.06-.94-.94-2.06-.94 2.06-2.06.94z\"/><path d=\"M17.41 7.96l-1.37-1.37c-.4-.4-.92-.59-1.43-.59-.52 0-1.04.2-1.43.59L10.3 9.45l-7.72 7.72c-.78.78-.78 2.05 0 2.83L4 21.41c.39.39.9.59 1.41.59.51 0 1.02-.2 1.41-.59l7.78-7.78 2.81-2.81c.8-.78.8-2.07 0-2.86zM5.41 20L4 18.59l7.72-7.72 1.47 1.35L5.41 20z\"/>\n",
              "  </svg>\n",
              "      </button>\n",
              "      \n",
              "  <style>\n",
              "    .colab-df-container {\n",
              "      display:flex;\n",
              "      flex-wrap:wrap;\n",
              "      gap: 12px;\n",
              "    }\n",
              "\n",
              "    .colab-df-convert {\n",
              "      background-color: #E8F0FE;\n",
              "      border: none;\n",
              "      border-radius: 50%;\n",
              "      cursor: pointer;\n",
              "      display: none;\n",
              "      fill: #1967D2;\n",
              "      height: 32px;\n",
              "      padding: 0 0 0 0;\n",
              "      width: 32px;\n",
              "    }\n",
              "\n",
              "    .colab-df-convert:hover {\n",
              "      background-color: #E2EBFA;\n",
              "      box-shadow: 0px 1px 2px rgba(60, 64, 67, 0.3), 0px 1px 3px 1px rgba(60, 64, 67, 0.15);\n",
              "      fill: #174EA6;\n",
              "    }\n",
              "\n",
              "    [theme=dark] .colab-df-convert {\n",
              "      background-color: #3B4455;\n",
              "      fill: #D2E3FC;\n",
              "    }\n",
              "\n",
              "    [theme=dark] .colab-df-convert:hover {\n",
              "      background-color: #434B5C;\n",
              "      box-shadow: 0px 1px 3px 1px rgba(0, 0, 0, 0.15);\n",
              "      filter: drop-shadow(0px 1px 2px rgba(0, 0, 0, 0.3));\n",
              "      fill: #FFFFFF;\n",
              "    }\n",
              "  </style>\n",
              "\n",
              "      <script>\n",
              "        const buttonEl =\n",
              "          document.querySelector('#df-c1f76d02-16ce-4ff8-a143-4ccb6fe15108 button.colab-df-convert');\n",
              "        buttonEl.style.display =\n",
              "          google.colab.kernel.accessAllowed ? 'block' : 'none';\n",
              "\n",
              "        async function convertToInteractive(key) {\n",
              "          const element = document.querySelector('#df-c1f76d02-16ce-4ff8-a143-4ccb6fe15108');\n",
              "          const dataTable =\n",
              "            await google.colab.kernel.invokeFunction('convertToInteractive',\n",
              "                                                     [key], {});\n",
              "          if (!dataTable) return;\n",
              "\n",
              "          const docLinkHtml = 'Like what you see? Visit the ' +\n",
              "            '<a target=\"_blank\" href=https://colab.research.google.com/notebooks/data_table.ipynb>data table notebook</a>'\n",
              "            + ' to learn more about interactive tables.';\n",
              "          element.innerHTML = '';\n",
              "          dataTable['output_type'] = 'display_data';\n",
              "          await google.colab.output.renderOutput(dataTable, element);\n",
              "          const docLink = document.createElement('div');\n",
              "          docLink.innerHTML = docLinkHtml;\n",
              "          element.appendChild(docLink);\n",
              "        }\n",
              "      </script>\n",
              "    </div>\n",
              "  </div>\n",
              "  "
            ]
          },
          "metadata": {},
          "execution_count": 101
        }
      ]
    },
    {
      "cell_type": "code",
      "source": [
        "ticker_name = pd.read_excel('https://github.com/SNMHZ/DART_8TH/raw/master/mock_investing/data/ticker_name.xlsx', index_col=0)"
      ],
      "metadata": {
        "id": "J3XqP4M9EXbJ"
      },
      "execution_count": 102,
      "outputs": []
    },
    {
      "cell_type": "code",
      "source": [
        "print(ticker_name[lists_f.index].iloc[0].to_list())"
      ],
      "metadata": {
        "id": "AM3Gls3M_MAT",
        "outputId": "0a790294-ba2b-4d1f-bbba-1d3f67c511e7",
        "colab": {
          "base_uri": "https://localhost:8080/",
          "height": 0
        }
      },
      "execution_count": 103,
      "outputs": [
        {
          "output_type": "stream",
          "name": "stdout",
          "text": [
            "['DL', 'GS', '이마트', '동국제강', 'LG상사', '기업은행', '한화', '우리금융지주', '하나금융지주', '풍산', 'POSCO', '태광산업', '삼양홀딩스', '현대제철', '한국가스공사', 'NH투자증권', '삼성증권', 'DL이앤씨', 'SK디스커버리', '신한지주']\n"
          ]
        }
      ]
    },
    {
      "cell_type": "code",
      "source": [
        ""
      ],
      "metadata": {
        "id": "30MeImHm9-XC"
      },
      "execution_count": null,
      "outputs": []
    },
    {
      "cell_type": "code",
      "source": [
        ""
      ],
      "metadata": {
        "id": "Nzli6ACM98L3"
      },
      "execution_count": null,
      "outputs": []
    },
    {
      "cell_type": "code",
      "source": [
        ""
      ],
      "metadata": {
        "id": "1zU51UfW6YYe"
      },
      "execution_count": null,
      "outputs": []
    },
    {
      "cell_type": "code",
      "source": [
        ""
      ],
      "metadata": {
        "id": "FJ1NFAUU15Ew"
      },
      "execution_count": null,
      "outputs": []
    },
    {
      "cell_type": "code",
      "source": [
        ""
      ],
      "metadata": {
        "id": "WGi_0UvT105m"
      },
      "execution_count": null,
      "outputs": []
    },
    {
      "cell_type": "code",
      "source": [
        ""
      ],
      "metadata": {
        "id": "5qVxzn6t1rm_"
      },
      "execution_count": null,
      "outputs": []
    },
    {
      "cell_type": "code",
      "source": [
        ""
      ],
      "metadata": {
        "id": "iWfcyPVn1nwb"
      },
      "execution_count": null,
      "outputs": []
    },
    {
      "cell_type": "code",
      "source": [
        ""
      ],
      "metadata": {
        "id": "7D5E8DWC1TR6"
      },
      "execution_count": null,
      "outputs": []
    },
    {
      "cell_type": "code",
      "source": [
        ""
      ],
      "metadata": {
        "id": "PGWsOmVxzxWU"
      },
      "execution_count": null,
      "outputs": []
    },
    {
      "cell_type": "code",
      "source": [
        ""
      ],
      "metadata": {
        "id": "ZnwDQntdzAFl"
      },
      "execution_count": null,
      "outputs": []
    },
    {
      "cell_type": "code",
      "source": [
        ""
      ],
      "metadata": {
        "id": "zF2eM1B8y8n6"
      },
      "execution_count": null,
      "outputs": []
    },
    {
      "cell_type": "code",
      "source": [
        ""
      ],
      "metadata": {
        "id": "78ttqOcTy4nz"
      },
      "execution_count": null,
      "outputs": []
    },
    {
      "cell_type": "code",
      "source": [
        ""
      ],
      "metadata": {
        "id": "MrPRWzxEy2sg"
      },
      "execution_count": null,
      "outputs": []
    },
    {
      "cell_type": "code",
      "source": [
        ""
      ],
      "metadata": {
        "id": "9vOppfLDywVK"
      },
      "execution_count": null,
      "outputs": []
    },
    {
      "cell_type": "code",
      "source": [
        ""
      ],
      "metadata": {
        "id": "vqtj3XPXyvK4"
      },
      "execution_count": null,
      "outputs": []
    },
    {
      "cell_type": "code",
      "source": [
        ""
      ],
      "metadata": {
        "id": "nHALvXkHyske"
      },
      "execution_count": null,
      "outputs": []
    },
    {
      "cell_type": "code",
      "source": [
        ""
      ],
      "metadata": {
        "id": "ofWx-8zaypZC"
      },
      "execution_count": null,
      "outputs": []
    },
    {
      "cell_type": "code",
      "source": [
        ""
      ],
      "metadata": {
        "id": "DF2kzX3Hx-u9"
      },
      "execution_count": null,
      "outputs": []
    },
    {
      "cell_type": "code",
      "source": [
        ""
      ],
      "metadata": {
        "id": "As4LV8xSx7PO"
      },
      "execution_count": null,
      "outputs": []
    },
    {
      "cell_type": "code",
      "source": [
        ""
      ],
      "metadata": {
        "id": "vp4vxQXrxs41"
      },
      "execution_count": null,
      "outputs": []
    },
    {
      "cell_type": "code",
      "source": [
        ""
      ],
      "metadata": {
        "id": "ahowu28KxhYW"
      },
      "execution_count": null,
      "outputs": []
    },
    {
      "cell_type": "code",
      "source": [
        ""
      ],
      "metadata": {
        "id": "xG_h0uoPxgLs"
      },
      "execution_count": null,
      "outputs": []
    },
    {
      "cell_type": "code",
      "source": [
        ""
      ],
      "metadata": {
        "id": "Wb9yjB1ExKeh"
      },
      "execution_count": null,
      "outputs": []
    },
    {
      "cell_type": "code",
      "source": [
        ""
      ],
      "metadata": {
        "id": "4_1ZQrGsw4vo"
      },
      "execution_count": null,
      "outputs": []
    },
    {
      "cell_type": "code",
      "source": [
        ""
      ],
      "metadata": {
        "id": "EwbdNdwpuUV5"
      },
      "execution_count": null,
      "outputs": []
    },
    {
      "cell_type": "code",
      "source": [
        ""
      ],
      "metadata": {
        "id": "lpD80a7rt66l"
      },
      "execution_count": null,
      "outputs": []
    },
    {
      "cell_type": "code",
      "source": [
        ""
      ],
      "metadata": {
        "id": "FFTeQ5_Nt1Cq"
      },
      "execution_count": null,
      "outputs": []
    },
    {
      "cell_type": "code",
      "source": [
        ""
      ],
      "metadata": {
        "id": "-vDOizHytsxS"
      },
      "execution_count": null,
      "outputs": []
    },
    {
      "cell_type": "code",
      "source": [
        ""
      ],
      "metadata": {
        "id": "mD6RadzhtTRJ"
      },
      "execution_count": null,
      "outputs": []
    },
    {
      "cell_type": "code",
      "source": [
        ""
      ],
      "metadata": {
        "id": "BIutzD2FtPjA"
      },
      "execution_count": null,
      "outputs": []
    },
    {
      "cell_type": "code",
      "source": [
        ""
      ],
      "metadata": {
        "id": "YOuAPfyjsVPE"
      },
      "execution_count": null,
      "outputs": []
    },
    {
      "cell_type": "code",
      "source": [
        ""
      ],
      "metadata": {
        "id": "GIWQzjO1rt9k"
      },
      "execution_count": null,
      "outputs": []
    },
    {
      "cell_type": "code",
      "source": [
        ""
      ],
      "metadata": {
        "id": "m9UPE1SNXJq0"
      },
      "execution_count": null,
      "outputs": []
    },
    {
      "cell_type": "code",
      "source": [
        ""
      ],
      "metadata": {
        "id": "_iiOhVUMWvWx"
      },
      "execution_count": null,
      "outputs": []
    },
    {
      "cell_type": "code",
      "source": [
        ""
      ],
      "metadata": {
        "id": "aBrG0CNUWkwJ"
      },
      "execution_count": null,
      "outputs": []
    },
    {
      "cell_type": "code",
      "source": [
        ""
      ],
      "metadata": {
        "id": "JDYD3UklWgtm"
      },
      "execution_count": null,
      "outputs": []
    },
    {
      "cell_type": "code",
      "source": [
        ""
      ],
      "metadata": {
        "id": "aALJFiaAVgrp"
      },
      "execution_count": null,
      "outputs": []
    },
    {
      "cell_type": "code",
      "source": [
        ""
      ],
      "metadata": {
        "id": "CJZxQ5CiUKJy"
      },
      "execution_count": null,
      "outputs": []
    },
    {
      "cell_type": "code",
      "source": [
        ""
      ],
      "metadata": {
        "id": "tTIeWv6OTczN"
      },
      "execution_count": null,
      "outputs": []
    },
    {
      "cell_type": "code",
      "source": [
        ""
      ],
      "metadata": {
        "id": "jfpmfT-3TL0k"
      },
      "execution_count": null,
      "outputs": []
    },
    {
      "cell_type": "code",
      "source": [
        ""
      ],
      "metadata": {
        "id": "bfd18_dyRfMG"
      },
      "execution_count": null,
      "outputs": []
    },
    {
      "cell_type": "code",
      "source": [
        ""
      ],
      "metadata": {
        "id": "UvE7HNPpRbw5"
      },
      "execution_count": null,
      "outputs": []
    },
    {
      "cell_type": "code",
      "source": [
        ""
      ],
      "metadata": {
        "id": "jnuf1fu5RUy3"
      },
      "execution_count": null,
      "outputs": []
    },
    {
      "cell_type": "code",
      "source": [
        ""
      ],
      "metadata": {
        "id": "0yV8G1gHRT0j"
      },
      "execution_count": null,
      "outputs": []
    },
    {
      "cell_type": "code",
      "source": [
        ""
      ],
      "metadata": {
        "id": "LDNK4TeWQ7HS"
      },
      "execution_count": null,
      "outputs": []
    },
    {
      "cell_type": "code",
      "source": [
        ""
      ],
      "metadata": {
        "id": "9CwcWggoQ6UU"
      },
      "execution_count": null,
      "outputs": []
    },
    {
      "cell_type": "code",
      "source": [
        ""
      ],
      "metadata": {
        "id": "4HwAEjp2Qy4F"
      },
      "execution_count": null,
      "outputs": []
    },
    {
      "cell_type": "code",
      "source": [
        ""
      ],
      "metadata": {
        "id": "5x9e3sLMQx_A"
      },
      "execution_count": null,
      "outputs": []
    },
    {
      "cell_type": "code",
      "source": [
        ""
      ],
      "metadata": {
        "id": "QyaL_8DNQu1j"
      },
      "execution_count": null,
      "outputs": []
    },
    {
      "cell_type": "code",
      "source": [
        ""
      ],
      "metadata": {
        "id": "94-IyZmBQssF"
      },
      "execution_count": null,
      "outputs": []
    },
    {
      "cell_type": "code",
      "source": [
        ""
      ],
      "metadata": {
        "id": "62Tr-HC9Qq6r"
      },
      "execution_count": null,
      "outputs": []
    },
    {
      "cell_type": "code",
      "source": [
        ""
      ],
      "metadata": {
        "id": "Uwny2bJwQjge"
      },
      "execution_count": null,
      "outputs": []
    },
    {
      "cell_type": "code",
      "source": [
        ""
      ],
      "metadata": {
        "id": "7Lv-MwUEQhqq"
      },
      "execution_count": null,
      "outputs": []
    },
    {
      "cell_type": "code",
      "source": [
        ""
      ],
      "metadata": {
        "id": "xabHhbqLQS-A"
      },
      "execution_count": null,
      "outputs": []
    },
    {
      "cell_type": "code",
      "source": [
        ""
      ],
      "metadata": {
        "id": "EiVVDT40QQ52"
      },
      "execution_count": null,
      "outputs": []
    },
    {
      "cell_type": "code",
      "source": [
        ""
      ],
      "metadata": {
        "id": "YKvs1ePXQLHZ"
      },
      "execution_count": null,
      "outputs": []
    },
    {
      "cell_type": "code",
      "source": [
        ""
      ],
      "metadata": {
        "id": "KlJboytkQIel"
      },
      "execution_count": null,
      "outputs": []
    },
    {
      "cell_type": "code",
      "source": [
        ""
      ],
      "metadata": {
        "id": "Gw6A95slP8oY"
      },
      "execution_count": null,
      "outputs": []
    },
    {
      "cell_type": "code",
      "source": [
        ""
      ],
      "metadata": {
        "id": "UTcaKIi4P4VS"
      },
      "execution_count": null,
      "outputs": []
    },
    {
      "cell_type": "code",
      "source": [
        ""
      ],
      "metadata": {
        "id": "aRCIpgMkl8My"
      },
      "execution_count": null,
      "outputs": []
    }
  ]
}